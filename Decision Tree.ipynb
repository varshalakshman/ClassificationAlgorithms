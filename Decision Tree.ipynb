{
 "cells": [
  {
   "cell_type": "markdown",
   "metadata": {},
   "source": [
    "# CSE 601 Data Mining and Bioinformatics\n",
    "\n",
    "# Project 3: Classification Algorithms"
   ]
  },
  {
   "cell_type": "markdown",
   "metadata": {},
   "source": [
    "# Part 2: Decision Tree \n",
    "\n",
    "Description: This program conducts classification algorithm on datasets (project3_dataset1.txt and project3_dataset2.txt) to find the accuracy on classifying the labels of test dataset.\n",
    "\n",
    "Submitted By:\n",
    "\n",
    "Name: Karan Manchandia | UBIT: karanman | Person No.: 50290755\n",
    "\n",
    "Name: Divya Srivastava | UBIT: divyasri | Person No.: 50290383\n",
    "\n",
    "Name: Varsha Lakshman | UBIT: varshala | Person No.: 50288138"
   ]
  },
  {
   "cell_type": "code",
   "execution_count": 1,
   "metadata": {},
   "outputs": [],
   "source": [
    "#Importing libraries\n",
    "import numpy as np\n",
    "import sys\n",
    "import argparse"
   ]
  },
  {
   "cell_type": "code",
   "execution_count": 4,
   "metadata": {},
   "outputs": [
    {
     "name": "stdout",
     "output_type": "stream",
     "text": [
      "Decision Tree\n",
      "Enter the name of the data file:project3_dataset4.txt\n",
      "Correct data file found and imported\n",
      "\n",
      "----------------------------------------------------------------------------------------\n",
      "\n"
     ]
    }
   ],
   "source": [
    "# Enter the data file name, open it and assign it to the variable data_file\n",
    "print (\"Decision Tree\")\n",
    "while True:\n",
    "    try:\n",
    "        filename = input(\"Enter the name of the data file:\")       \n",
    "        \n",
    "    # In case of a error the except block will be executed\n",
    "    except:\n",
    "        print(\"Error: Could not find file or read data\")\n",
    "        continue\n",
    "        \n",
    "    # This block will be executed after correct data file name is entered\n",
    "    else:\n",
    "        print(\"Correct data file found and imported\\n\")\n",
    "        print(\"----------------------------------------------------------------------------------------\\n\")\n",
    "        break"
   ]
  },
  {
   "cell_type": "code",
   "execution_count": 5,
   "metadata": {},
   "outputs": [],
   "source": [
    "#Opening file handle and retrieving content\n",
    "with open(filename, \"r\") as file:\n",
    "        data_file = [line.rstrip().split('\\t') for line in file]\n"
   ]
  },
  {
   "cell_type": "code",
   "execution_count": 6,
   "metadata": {},
   "outputs": [],
   "source": [
    "#To check if attribute is String or not\n",
    "def string_check(s):\n",
    "    try:\n",
    "        complex(s)\n",
    "    except ValueError:\n",
    "        return True\n",
    "    return False"
   ]
  },
  {
   "cell_type": "code",
   "execution_count": 7,
   "metadata": {},
   "outputs": [
    {
     "name": "stdout",
     "output_type": "stream",
     "text": [
      "['overcast' 'rain' 'sunny']\n",
      "['cool' 'hot' 'mild']\n",
      "['high' 'normal']\n",
      "['strong' 'weak']\n"
     ]
    }
   ],
   "source": [
    "#Converting the data of the file to a numpy array \n",
    "data_file = np.asarray(data_file)\n",
    "out_class = data_file[:,-1].reshape((data_file.shape[0],1)).astype(int)\n",
    "data_file = data_file[:,0:-1]\n",
    "\n",
    "#Detecting categorical variables in the dataset and giving them numerical values\n",
    "s_indices = []\n",
    "indi=[]\n",
    "i = 0\n",
    "while i < len(data_file[0]):\n",
    "    if string_check(data_file[0][i]):\n",
    "        s_indices.append(i)\n",
    "    i+=1\n",
    "\n",
    "for i in s_indices:\n",
    "    s_unique = np.unique(data_file[:,i])\n",
    "    print(s_unique)\n",
    "    substitute_vals = list(range(len(s_unique)))\n",
    "    dictionary = dict(zip(s_unique, substitute_vals))\n",
    "    j=0\n",
    "    while j < len(data_file[:,i]):\n",
    "        data_file[j][i] = dictionary.get(data_file[j][i])\n",
    "        j+=1"
   ]
  },
  {
   "cell_type": "code",
   "execution_count": 8,
   "metadata": {},
   "outputs": [],
   "source": [
    "#Appending the output class at the last \n",
    "data_file = data_file.astype(float)\n",
    "data_file = np.append(data_file,out_class,axis=1)\n",
    "\n",
    "#Applying 10-fold cross validation\n",
    "cross_validation = np.array_split(data_file, 10)\n",
    "accuracy = precision = recall = f1_measure = 0"
   ]
  },
  {
   "cell_type": "code",
   "execution_count": 9,
   "metadata": {},
   "outputs": [],
   "source": [
    "#Finding the split-node in the decision tree\n",
    "def find_node(data_file):\n",
    "    min_errorVal = float('inf')\n",
    "    root = {}\n",
    "    for col in range(len(data_file[0]) - 1):\n",
    "        for row in range(len(data_file)):\n",
    "            #Function to split the data into two sublists (left_list and right_list)\n",
    "            left_list = []\n",
    "            right_list = []\n",
    "            for r in range(len(data_file)):\n",
    "                if col not in s_indices:\n",
    "                    if data_file[r][col] <= data_file[row][col]:\n",
    "                        left_list.append(data_file[r])\n",
    "                    else:\n",
    "                        right_list.append(data_file[r])\n",
    "                else:\n",
    "                    if data_file[r][col] == data_file[row][col]:\n",
    "                        left_list.append(data_file[r])\n",
    "                    else:\n",
    "                        right_list.append(data_file[r])\n",
    "            left_list = np.asarray(left_list)\n",
    "            right_list = np.asarray(right_list)\n",
    "            \n",
    "            #Calculating gini_index\n",
    "            count = len(left_list) + len(right_list)\n",
    "            one_count_left = zero_count_left = one_count_right = zero_count_right = 0\n",
    "            if len(left_list) != 0:\n",
    "                one_count_left = float(list(left_list[:,-1]).count(1)) /len(left_list)\n",
    "                zero_count_left = float(list(left_list[:,-1]).count(0)) / len(left_list)\n",
    "            if len(right_list) != 0:\n",
    "                one_count_right = float(list(right_list[:,-1]).count(1)) / len(right_list)\n",
    "                zero_count_right = float(list(right_list[:,-1]).count(0)) / len(right_list)\n",
    "            gini_left = 1.0 - ((one_count_left * one_count_left) + (zero_count_left * zero_count_left))\n",
    "            gini_right = 1.0 - ((one_count_right * one_count_right) + (zero_count_right * zero_count_right))\n",
    "            gini = ((gini_left * len(left_list)) + (gini_right * len(right_list))) / count\n",
    "\n",
    "            if gini < min_errorVal:\n",
    "                min_errorVal = gini\n",
    "                root['split_index'] = row\n",
    "                root['split_value'] = data_file[row][col]\n",
    "                root['split_attr'] = col\n",
    "                root['left_list'] = left_list\n",
    "                root['right_list'] = right_list\n",
    "                root['gini'] = min_errorVal\n",
    "    \n",
    "#     print(\"impurity measure is:\", min_errorVal)\n",
    "\n",
    "    return root\n",
    "\n"
   ]
  },
  {
   "cell_type": "code",
   "execution_count": 10,
   "metadata": {},
   "outputs": [],
   "source": [
    "#Building the decision tree\n",
    "def decision_tree(root, depth):\n",
    "    left_list = root['left_list']\n",
    "    right_list = root['right_list']\n",
    "    del(root['left_list'])\n",
    "    del(root['right_list'])\n",
    "    if len(left_list) == 0 or len(right_list) == 0:\n",
    "        root['left_list'] = root['right_list'] = find_class(left_list, right_list)\n",
    "        return root \n",
    "    if len(left_list) > 0:\n",
    "        #Checking if everything belongs to the same class\n",
    "        if len(np.unique(left_list[:,-1])) == 1:\n",
    "            root['left_list'] = find_class(left_list, list())\n",
    "        else:\n",
    "            root['left_list'] = decision_tree(find_node(left_list), depth + 1)\n",
    "    if len(right_list) > 0:\n",
    "        #Checking if everything belongs to the same class\n",
    "        if len(np.unique(right_list[:,-1])) == 1:\n",
    "            root['right_list'] = find_class(list(), right_list)\n",
    "        else:\n",
    "            root['right_list'] = decision_tree(find_node(right_list), depth + 1)\n",
    "    return root\n"
   ]
  },
  {
   "cell_type": "code",
   "execution_count": 11,
   "metadata": {},
   "outputs": [],
   "source": [
    "#Printing the tree\n",
    "def print_tree(root, depth=0):\n",
    "    if isinstance(root, dict):\n",
    "        print(depth*'-', 'X', (root['split_index']+1),'<',root['split_value'])\n",
    "        print_tree(root['left_list'], depth+1)\n",
    "        print_tree(root['right_list'], depth+1)\n",
    "    else:\n",
    "        print(depth*'-', root)\n"
   ]
  },
  {
   "cell_type": "code",
   "execution_count": 12,
   "metadata": {},
   "outputs": [],
   "source": [
    "#Get the classification at the node\n",
    "def find_class(left_list, right_list):\n",
    "    count_zero = 0\n",
    "    count_one = 0;\n",
    "    if len(left_list) != 0:\n",
    "        count_zero += list(left_list[:,-1]).count(0)\n",
    "        count_one += list(left_list[:,-1]).count(1)\n",
    "    if len(right_list) != 0:\n",
    "        count_zero += list(right_list[:,-1]).count(0)\n",
    "        count_one += list(right_list[:,-1]).count(1)\n",
    "    return 1 if count_one > count_zero else 0"
   ]
  },
  {
   "cell_type": "code",
   "execution_count": 13,
   "metadata": {},
   "outputs": [],
   "source": [
    "#Classifying the test record using the decision tree\n",
    "def test_classification(root, test_data):\n",
    "    if root == 0 or root == 1:\n",
    "        return root\n",
    "    elif root['split_attr'] not in s_indices:\n",
    "        if test_data[root['split_attr']] < root['split_value']:\n",
    "            if root['left_list'] == 0 or root['left_list'] == 1:\n",
    "                return root['left_list']                                 \n",
    "            else:\n",
    "                return test_classification(root['left_list'], test_data)\n",
    "        else:\n",
    "            if root['right_list'] == 0 or root['right_list'] == 1:\n",
    "                return root['right_list']\n",
    "            else:\n",
    "                return test_classification(root['right_list'], test_data)\n",
    "    else:\n",
    "        if test_data[root['split_attr']] == root['split_value']:\n",
    "            if root['left_list'] == 0 or root['left_list'] == 1:\n",
    "                return root['left_list']                                 \n",
    "            else:\n",
    "                return test_classification(root['left_list'], test_data)\n",
    "        else:\n",
    "            if root['right_list'] == 0 or root['right_list'] == 1:\n",
    "                return root['right_list']\n",
    "            else:\n",
    "                return test_classification(root['right_list'], test_data)"
   ]
  },
  {
   "cell_type": "code",
   "execution_count": 14,
   "metadata": {},
   "outputs": [],
   "source": [
    "#Calculating the performance parameters and Getting metrics - TruePositive, FalsePositive, TrueNegative, FalseNegative for calculating accuracy/precision/recall/f-measure\n",
    "def performance_metrics(actual, predicted):\n",
    "    tp = tn = fp = fn = 0\n",
    "    for i in range(len(actual)):\n",
    "\n",
    "        if actual[i] == 1 and predicted[i] == 1:\n",
    "            tp += 1\n",
    "        if actual[i] == 1 and predicted[i] == 0:\n",
    "            fn += 1\n",
    "        if actual[i] == 0 and predicted[i] == 1:\n",
    "            fp += 1\n",
    "        if actual[i] == 0 and predicted[i] == 0:\n",
    "            tn += 1\n",
    "    precision = 0\n",
    "    recall = 0\n",
    "    F1 = 0\n",
    "    accuracy = 0\n",
    "\n",
    "    if tp + fp != 0:\n",
    "        precision = tp / float(tp + fp)\n",
    "    if tp + fn != 0:\n",
    "        recall = tp / float(fn + tp)\n",
    "    if tp + tn + fp + fn != 0:\n",
    "        accuracy = (tp + tn) / float(tp + tn + fp + fn)\n",
    "    if precision + recall != 0:\n",
    "        F1 = (2 * precision * recall) / float(precision + recall)\n",
    "\n",
    "    precision = precision * 100\n",
    "    recall = recall * 100\n",
    "    accuracy = accuracy * 100\n",
    "    F1 = F1 * 100\n",
    "    \n",
    "    return {'precision': precision, 'recall': recall, 'accuracy': accuracy, 'F1': F1}\n"
   ]
  },
  {
   "cell_type": "code",
   "execution_count": 15,
   "metadata": {},
   "outputs": [
    {
     "name": "stdout",
     "output_type": "stream",
     "text": [
      "Decision Tree for file project3_dataset4.txt\n",
      "Tree\n",
      "{'split_index': 0, 'split_value': 2.0, 'split_attr': 0, 'gini': 0.31923076923076926, 'left_list': {'split_index': 0, 'split_value': 0.0, 'split_attr': 2, 'gini': 0.0, 'left_list': 0, 'right_list': 1}, 'right_list': {'split_index': 2, 'split_value': 0.0, 'split_attr': 1, 'gini': 0.16666666666666666, 'left_list': {'split_index': 0, 'split_value': 1.0, 'split_attr': 0, 'gini': 0.3333333333333333, 'left_list': {'split_index': 0, 'split_value': 1.0, 'split_attr': 3, 'gini': 0.0, 'left_list': 1, 'right_list': 0}, 'right_list': 1}, 'right_list': 1}}\n",
      " X 1 < 2.0\n",
      "- X 1 < 0.0\n",
      "-- 0\n",
      "-- 1\n",
      "- X 3 < 0.0\n",
      "-- X 1 < 1.0\n",
      "--- X 1 < 1.0\n",
      "---- 1\n",
      "---- 0\n",
      "--- 1\n",
      "-- 1\n",
      "Final Accuracy: 55.000%\n",
      "Final Precision: 50.000%\n",
      "Final Recall: 55.000%\n",
      "Final F1: 50.000%\n"
     ]
    }
   ],
   "source": [
    "#Actual algorithm\n",
    "\n",
    "scores = []\n",
    "print(f\"Decision Tree for file {filename}\")\n",
    "for i in range(len(cross_validation)):\n",
    "    #split dataset into train and test - 10 fold cross-validation\n",
    "    test_set = cross_validation[i]\n",
    "    train_set = np.vstack([x for l,x in enumerate(cross_validation) if l != i])\n",
    "    test_set = np.asarray(test_set)\n",
    "    train_set = np.asarray(train_set)\n",
    "    test_class = []\n",
    "    root = find_node(train_set)\n",
    "    root = decision_tree(root, 1)\n",
    "\n",
    "    for row in range(len(test_set)):\n",
    "        test_class.append(test_classification(root,test_set[row]))\n",
    "    actual_class = test_set[:,-1]\n",
    "    predicted_class = np.asarray(test_class)\n",
    "    #Getting metrics - TruePositive, FalsePositive, TrueNegative, FalseNegative for calculating accuracy/precision/recall/f-measure\n",
    "    accuracy = performance_metrics(actual_class, predicted_class)\n",
    "    scores.append(accuracy)\n",
    "\n",
    "print(\"Tree\")\n",
    "print(root)\n",
    "print_tree(root)\n",
    "\n",
    "precision = 0\n",
    "recall = 0\n",
    "accuracy = 0\n",
    "F1 = 0\n",
    "\n",
    "for i in range(len(scores)):\n",
    "    precision += scores[i]['precision']\n",
    "    recall += scores[i]['recall']\n",
    "    accuracy += scores[i]['accuracy']\n",
    "    F1 += scores[i]['F1']\n",
    "\n",
    "print('Final Accuracy: %.3f%%' % (accuracy/float(len(scores))))\n",
    "print('Final Precision: %.3f%%' % (precision/float(len(scores))))\n",
    "print('Final Recall: %.3f%%' % (recall/float(len(scores))))\n",
    "print('Final F1: %.3f%%' % (F1/float(len(scores))))\n"
   ]
  },
  {
   "cell_type": "code",
   "execution_count": null,
   "metadata": {},
   "outputs": [],
   "source": []
  },
  {
   "cell_type": "code",
   "execution_count": null,
   "metadata": {},
   "outputs": [],
   "source": []
  }
 ],
 "metadata": {
  "kernelspec": {
   "display_name": "Python 3",
   "language": "python",
   "name": "python3"
  },
  "language_info": {
   "codemirror_mode": {
    "name": "ipython",
    "version": 3
   },
   "file_extension": ".py",
   "mimetype": "text/x-python",
   "name": "python",
   "nbconvert_exporter": "python",
   "pygments_lexer": "ipython3",
   "version": "3.7.3"
  }
 },
 "nbformat": 4,
 "nbformat_minor": 2
}
